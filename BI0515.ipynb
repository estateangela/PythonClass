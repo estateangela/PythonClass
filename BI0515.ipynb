{
  "nbformat": 4,
  "nbformat_minor": 0,
  "metadata": {
    "colab": {
      "provenance": [],
      "authorship_tag": "ABX9TyOPO1vLHm0oTmTRAYmezY34",
      "include_colab_link": true
    },
    "kernelspec": {
      "name": "python3",
      "display_name": "Python 3"
    },
    "language_info": {
      "name": "python"
    }
  },
  "cells": [
    {
      "cell_type": "markdown",
      "metadata": {
        "id": "view-in-github",
        "colab_type": "text"
      },
      "source": [
        "<a href=\"https://colab.research.google.com/github/estateangela/PythonClass/blob/main/BI0515.ipynb\" target=\"_parent\"><img src=\"https://colab.research.google.com/assets/colab-badge.svg\" alt=\"Open In Colab\"/></a>"
      ]
    },
    {
      "cell_type": "code",
      "execution_count": null,
      "metadata": {
        "id": "eq-eRzcx4NCZ"
      },
      "outputs": [],
      "source": [
        "import numpy as np"
      ]
    },
    {
      "cell_type": "code",
      "source": [
        "n1d = np.array([1,2,3])\n",
        "n1d , n1d.shape"
      ],
      "metadata": {
        "colab": {
          "base_uri": "https://localhost:8080/"
        },
        "id": "4llCBEmW4Zij",
        "outputId": "0e913f89-89be-4654-d176-8fedd58de6a2"
      },
      "execution_count": null,
      "outputs": [
        {
          "output_type": "execute_result",
          "data": {
            "text/plain": [
              "(array([1, 2, 3]), (3,))"
            ]
          },
          "metadata": {},
          "execution_count": 2
        }
      ]
    },
    {
      "cell_type": "code",
      "source": [
        "n1d[2] = 10\n",
        "n1d"
      ],
      "metadata": {
        "colab": {
          "base_uri": "https://localhost:8080/"
        },
        "id": "08dc43wB4vEl",
        "outputId": "7e398fc3-0396-4b26-98eb-0055cfac5b05"
      },
      "execution_count": null,
      "outputs": [
        {
          "output_type": "execute_result",
          "data": {
            "text/plain": [
              "array([ 1,  2, 10])"
            ]
          },
          "metadata": {},
          "execution_count": 3
        }
      ]
    },
    {
      "cell_type": "code",
      "source": [
        "n2d = np.array([[1,2,3],[14,125,16]])\n",
        "n2d,n2d.shape"
      ],
      "metadata": {
        "colab": {
          "base_uri": "https://localhost:8080/"
        },
        "id": "ra4TL3v45MAj",
        "outputId": "7292b1c1-a3a2-4b4b-cd71-64c1e454189b"
      },
      "execution_count": null,
      "outputs": [
        {
          "output_type": "execute_result",
          "data": {
            "text/plain": [
              "(array([[  1,   2,   3],\n",
              "        [ 14, 125,  16]]),\n",
              " (2, 3))"
            ]
          },
          "metadata": {},
          "execution_count": 4
        }
      ]
    },
    {
      "cell_type": "code",
      "source": [
        "'n2d[0][1]=',n2d[0][1],'n2d[0,1]=',n2d[0,1]"
      ],
      "metadata": {
        "colab": {
          "base_uri": "https://localhost:8080/"
        },
        "id": "xhwcDwjN5ao1",
        "outputId": "bdd5a7ba-43fa-45d4-e9e2-c1ee0b39889a"
      },
      "execution_count": null,
      "outputs": [
        {
          "output_type": "execute_result",
          "data": {
            "text/plain": [
              "('n2d[0][1]=', 2, 'n2d[0,1]=', 2)"
            ]
          },
          "metadata": {},
          "execution_count": 5
        }
      ]
    },
    {
      "cell_type": "code",
      "source": [
        "n2d[0,-1]"
      ],
      "metadata": {
        "colab": {
          "base_uri": "https://localhost:8080/"
        },
        "id": "m2XQrqH754li",
        "outputId": "e3ecc1df-2b72-4c0e-a267-4e8833aaf9c0"
      },
      "execution_count": null,
      "outputs": [
        {
          "output_type": "execute_result",
          "data": {
            "text/plain": [
              "3"
            ]
          },
          "metadata": {},
          "execution_count": 6
        }
      ]
    },
    {
      "cell_type": "code",
      "source": [
        "n2d[-1]"
      ],
      "metadata": {
        "colab": {
          "base_uri": "https://localhost:8080/"
        },
        "id": "GcQaTlwB6Tf4",
        "outputId": "f75fe826-5ebe-4651-e894-e279776f4a36"
      },
      "execution_count": null,
      "outputs": [
        {
          "output_type": "execute_result",
          "data": {
            "text/plain": [
              "array([ 14, 125,  16])"
            ]
          },
          "metadata": {},
          "execution_count": 7
        }
      ]
    },
    {
      "cell_type": "code",
      "source": [
        "n1d = [1,2,3,4,5,6,7,8,9]\n",
        "n1d[2:-2] #頭包含尾不包含\n",
        "n1d[2:-2:3]"
      ],
      "metadata": {
        "colab": {
          "base_uri": "https://localhost:8080/"
        },
        "id": "ZlDN_2oc6dhq",
        "outputId": "c069f2e7-ef34-40ee-8954-c6d36c616cec"
      },
      "execution_count": null,
      "outputs": [
        {
          "output_type": "execute_result",
          "data": {
            "text/plain": [
              "[3, 6]"
            ]
          },
          "metadata": {},
          "execution_count": 10
        }
      ]
    },
    {
      "cell_type": "code",
      "source": [
        "print(n1d[:-2])\n",
        "print(n1d[1:])\n",
        "print(n1d[1:len(n1d)])"
      ],
      "metadata": {
        "colab": {
          "base_uri": "https://localhost:8080/"
        },
        "id": "twteHuIk7ZU8",
        "outputId": "1866ba7a-60c8-4317-f0f4-722e4eb2446e"
      },
      "execution_count": null,
      "outputs": [
        {
          "output_type": "stream",
          "name": "stdout",
          "text": [
            "[1, 2, 3, 4, 5, 6, 7]\n",
            "[2, 3, 4, 5, 6, 7, 8, 9]\n",
            "[2, 3, 4, 5, 6, 7, 8, 9]\n"
          ]
        }
      ]
    },
    {
      "cell_type": "code",
      "source": [
        "n2d = np.array([[1,2,3],[4,5,6],[7,8,9],[10,11,12]])\n",
        "n2d, n2d.shape"
      ],
      "metadata": {
        "colab": {
          "base_uri": "https://localhost:8080/"
        },
        "id": "Hu6jpiao815D",
        "outputId": "3ab29671-a8cb-44c4-9e9e-83814f0ee01c"
      },
      "execution_count": null,
      "outputs": [
        {
          "output_type": "execute_result",
          "data": {
            "text/plain": [
              "(array([[ 1,  2,  3],\n",
              "        [ 4,  5,  6],\n",
              "        [ 7,  8,  9],\n",
              "        [10, 11, 12]]),\n",
              " (4, 3))"
            ]
          },
          "metadata": {},
          "execution_count": 14
        }
      ]
    },
    {
      "cell_type": "code",
      "source": [
        "n2d[3,1], n2d[1:3,1], n2d[0:3,0:2], n2d[1:3,1:2]"
      ],
      "metadata": {
        "colab": {
          "base_uri": "https://localhost:8080/"
        },
        "id": "DXns2hpw9Ken",
        "outputId": "0fcdb65f-078e-43d1-c371-fff0f2584363"
      },
      "execution_count": null,
      "outputs": [
        {
          "output_type": "execute_result",
          "data": {
            "text/plain": [
              "(11,\n",
              " array([5, 8]),\n",
              " array([[1, 2],\n",
              "        [4, 5],\n",
              "        [7, 8]]),\n",
              " array([[5],\n",
              "        [8]]))"
            ]
          },
          "metadata": {},
          "execution_count": 17
        }
      ]
    },
    {
      "cell_type": "code",
      "source": [
        "n2d[1,1:3],n2d[3,1:3]"
      ],
      "metadata": {
        "colab": {
          "base_uri": "https://localhost:8080/"
        },
        "id": "230guKH8BH8S",
        "outputId": "5d9f7071-1a7b-4a73-a78d-c6bf82ca6c12"
      },
      "execution_count": null,
      "outputs": [
        {
          "output_type": "execute_result",
          "data": {
            "text/plain": [
              "(array([5, 6]), array([11, 12]))"
            ]
          },
          "metadata": {},
          "execution_count": 21
        }
      ]
    },
    {
      "cell_type": "code",
      "source": [
        "np.zeros((3,3,4)),np.empty((3,3,4))"
      ],
      "metadata": {
        "colab": {
          "base_uri": "https://localhost:8080/"
        },
        "id": "0bM8Q7saC2cW",
        "outputId": "dd163618-cd93-463f-9a07-8d31e455e714"
      },
      "execution_count": null,
      "outputs": [
        {
          "output_type": "execute_result",
          "data": {
            "text/plain": [
              "(array([[[0., 0., 0., 0.],\n",
              "         [0., 0., 0., 0.],\n",
              "         [0., 0., 0., 0.]],\n",
              " \n",
              "        [[0., 0., 0., 0.],\n",
              "         [0., 0., 0., 0.],\n",
              "         [0., 0., 0., 0.]],\n",
              " \n",
              "        [[0., 0., 0., 0.],\n",
              "         [0., 0., 0., 0.],\n",
              "         [0., 0., 0., 0.]]]),\n",
              " array([[[4.77644210e-310, 0.00000000e+000, 4.95268267e+223,\n",
              "          7.23786621e+159],\n",
              "         [3.02907763e-152, 1.39806872e-152, 5.98129759e-154,\n",
              "          2.52303223e-258],\n",
              "         [4.47593804e-091, 1.81644122e+223, 2.64519876e+185,\n",
              "          2.21002231e+214]],\n",
              " \n",
              "        [[1.96930981e+243, 2.64521684e+185, 7.36496487e+271,\n",
              "          1.17567369e+214],\n",
              "         [3.17095813e+180, 7.47727343e+247, 1.67432290e+243,\n",
              "          4.88725514e+199],\n",
              "         [1.46923002e+195, 2.44048419e-152, 6.20203970e+223,\n",
              "          5.46653043e+241]],\n",
              " \n",
              "        [[3.28095935e-085, 2.23209619e+271, 2.46598535e-154,\n",
              "          4.47593816e-091],\n",
              "         [6.01346953e-154, 2.17235227e-153, 1.69201561e+190,\n",
              "          7.49744161e+247],\n",
              "         [3.42702532e-062, 2.44151111e-154, 7.13637444e+159,\n",
              "          4.94065646e-323]]]))"
            ]
          },
          "metadata": {},
          "execution_count": 23
        }
      ]
    },
    {
      "cell_type": "code",
      "source": [
        "np.linspace(0,100,10)"
      ],
      "metadata": {
        "colab": {
          "base_uri": "https://localhost:8080/"
        },
        "id": "19liK6DSEfRA",
        "outputId": "75b34986-b590-46ac-de0c-44fbfa647cd9"
      },
      "execution_count": null,
      "outputs": [
        {
          "output_type": "execute_result",
          "data": {
            "text/plain": [
              "array([  0.        ,  11.11111111,  22.22222222,  33.33333333,\n",
              "        44.44444444,  55.55555556,  66.66666667,  77.77777778,\n",
              "        88.88888889, 100.        ])"
            ]
          },
          "metadata": {},
          "execution_count": 24
        }
      ]
    },
    {
      "cell_type": "code",
      "source": [
        "np.arange(10)"
      ],
      "metadata": {
        "colab": {
          "base_uri": "https://localhost:8080/"
        },
        "id": "le7rq7l5FDPl",
        "outputId": "8fd8a462-1700-40bf-f9ce-edec87dc80d7"
      },
      "execution_count": null,
      "outputs": [
        {
          "output_type": "execute_result",
          "data": {
            "text/plain": [
              "array([0, 1, 2, 3, 4, 5, 6, 7, 8, 9])"
            ]
          },
          "metadata": {},
          "execution_count": 27
        }
      ]
    },
    {
      "cell_type": "code",
      "source": [
        "np.random.randn(10)"
      ],
      "metadata": {
        "colab": {
          "base_uri": "https://localhost:8080/"
        },
        "id": "dxqNRhDlFwUw",
        "outputId": "3b260f30-d0e1-4b3f-e7a4-541e43ca028a"
      },
      "execution_count": null,
      "outputs": [
        {
          "output_type": "execute_result",
          "data": {
            "text/plain": [
              "array([ 0.06612354, -0.38509068,  2.3642195 ,  0.3134066 , -0.81875314,\n",
              "       -1.95751218,  0.35729756, -1.2337102 ,  1.32977628, -1.37923194])"
            ]
          },
          "metadata": {},
          "execution_count": 28
        }
      ]
    },
    {
      "cell_type": "code",
      "source": [
        "np.random.random((10,2))"
      ],
      "metadata": {
        "colab": {
          "base_uri": "https://localhost:8080/"
        },
        "id": "ugvBlDAHF5cR",
        "outputId": "b4f35263-e615-47f6-da8c-d47a6d3a68d2"
      },
      "execution_count": null,
      "outputs": [
        {
          "output_type": "execute_result",
          "data": {
            "text/plain": [
              "array([[0.6824531 , 0.35636322],\n",
              "       [0.80895464, 0.34493766],\n",
              "       [0.71775148, 0.56467967],\n",
              "       [0.36031394, 0.42519113],\n",
              "       [0.95046352, 0.5776643 ],\n",
              "       [0.4380387 , 0.59184536],\n",
              "       [0.12420197, 0.95500115],\n",
              "       [0.9980155 , 0.72701929],\n",
              "       [0.18978171, 0.16782077],\n",
              "       [0.25893693, 0.39137192]])"
            ]
          },
          "metadata": {},
          "execution_count": 35
        }
      ]
    },
    {
      "cell_type": "code",
      "source": [
        "np.random.laplace(100)"
      ],
      "metadata": {
        "colab": {
          "base_uri": "https://localhost:8080/"
        },
        "id": "htWsyd4EGVa0",
        "outputId": "d53330a9-7c93-4c1d-fccd-4d188de4cc12"
      },
      "execution_count": null,
      "outputs": [
        {
          "output_type": "execute_result",
          "data": {
            "text/plain": [
              "100.6118699508458"
            ]
          },
          "metadata": {},
          "execution_count": 33
        }
      ]
    },
    {
      "cell_type": "code",
      "source": [
        "np.random.sample(10)"
      ],
      "metadata": {
        "colab": {
          "base_uri": "https://localhost:8080/"
        },
        "id": "qRTBrpuFG9TP",
        "outputId": "14c8e88a-aa08-4297-93dd-6b5063287ef3"
      },
      "execution_count": null,
      "outputs": [
        {
          "output_type": "execute_result",
          "data": {
            "text/plain": [
              "array([0.78570843, 0.10866418, 0.84892406, 0.03048549, 0.8195189 ,\n",
              "       0.76542552, 0.91997371, 0.78382503, 0.39036032, 0.71515317])"
            ]
          },
          "metadata": {},
          "execution_count": 37
        }
      ]
    },
    {
      "cell_type": "code",
      "source": [
        "import random\n",
        "random.randint(4,10)"
      ],
      "metadata": {
        "colab": {
          "base_uri": "https://localhost:8080/"
        },
        "id": "K0NvvrnwHIlZ",
        "outputId": "994b4f18-2f4a-4b62-aab7-b7fce6f0ea5d"
      },
      "execution_count": null,
      "outputs": [
        {
          "output_type": "execute_result",
          "data": {
            "text/plain": [
              "5"
            ]
          },
          "metadata": {},
          "execution_count": 38
        }
      ]
    },
    {
      "cell_type": "code",
      "source": [
        "np.random.randint(-2,2,size=10)"
      ],
      "metadata": {
        "colab": {
          "base_uri": "https://localhost:8080/"
        },
        "id": "JF3mfiO5He1Q",
        "outputId": "3bf5461b-1028-41e8-9664-7368578a475e"
      },
      "execution_count": null,
      "outputs": [
        {
          "output_type": "execute_result",
          "data": {
            "text/plain": [
              "array([-1, -2,  0, -2, -1, -1, -1,  1,  1,  1])"
            ]
          },
          "metadata": {},
          "execution_count": 39
        }
      ]
    },
    {
      "cell_type": "code",
      "source": [
        "np.random.randint(-2,2,size=(10,2))"
      ],
      "metadata": {
        "colab": {
          "base_uri": "https://localhost:8080/"
        },
        "id": "MJhDEwumIMI9",
        "outputId": "27e15ef6-c70f-4821-9753-de23ba01a3b7"
      },
      "execution_count": null,
      "outputs": [
        {
          "output_type": "execute_result",
          "data": {
            "text/plain": [
              "array([[ 1, -1],\n",
              "       [-1, -2],\n",
              "       [ 1, -1],\n",
              "       [ 1, -1],\n",
              "       [ 1,  1],\n",
              "       [ 0, -2],\n",
              "       [ 1,  0],\n",
              "       [-2,  1],\n",
              "       [ 1, -1],\n",
              "       [-1, -2]])"
            ]
          },
          "metadata": {},
          "execution_count": 40
        }
      ]
    },
    {
      "cell_type": "code",
      "source": [
        "data = np.random.randint(10,size=(3,5))\n",
        "data"
      ],
      "metadata": {
        "colab": {
          "base_uri": "https://localhost:8080/"
        },
        "id": "eSTInzv2IyeQ",
        "outputId": "7d2929b5-ff39-446a-c0f3-d84a76e46cde"
      },
      "execution_count": null,
      "outputs": [
        {
          "output_type": "execute_result",
          "data": {
            "text/plain": [
              "array([[3, 5, 5, 3, 1],\n",
              "       [0, 3, 0, 3, 8],\n",
              "       [1, 1, 6, 8, 0]])"
            ]
          },
          "metadata": {},
          "execution_count": 44
        }
      ]
    },
    {
      "cell_type": "code",
      "source": [
        "data1d = [1,2,3,4]\n",
        "sum(data1d)"
      ],
      "metadata": {
        "colab": {
          "base_uri": "https://localhost:8080/"
        },
        "id": "TjJhsjN6JAb4",
        "outputId": "11637f6a-7d57-4da6-e9b4-d899c6fa49f9"
      },
      "execution_count": null,
      "outputs": [
        {
          "output_type": "execute_result",
          "data": {
            "text/plain": [
              "10"
            ]
          },
          "metadata": {},
          "execution_count": 50
        }
      ]
    },
    {
      "cell_type": "code",
      "source": [
        "np.sum(data),np.max(data),np.min(data),np.mean(data)"
      ],
      "metadata": {
        "colab": {
          "base_uri": "https://localhost:8080/"
        },
        "id": "j-TCHFbJJMJZ",
        "outputId": "c935b22f-78bf-4e48-9489-6a8170b67e35"
      },
      "execution_count": null,
      "outputs": [
        {
          "output_type": "execute_result",
          "data": {
            "text/plain": [
              "(47, 8, 0, 3.1333333333333333)"
            ]
          },
          "metadata": {},
          "execution_count": 52
        }
      ]
    },
    {
      "cell_type": "code",
      "source": [
        "data.sum(),data.max(),data.mean()"
      ],
      "metadata": {
        "colab": {
          "base_uri": "https://localhost:8080/"
        },
        "id": "jqkj9z0UM1tn",
        "outputId": "f33843d3-32c7-45c1-fac8-a1d66f76e0b1"
      },
      "execution_count": null,
      "outputs": [
        {
          "output_type": "execute_result",
          "data": {
            "text/plain": [
              "(47, 8, 3.1333333333333333)"
            ]
          },
          "metadata": {},
          "execution_count": 53
        }
      ]
    },
    {
      "cell_type": "code",
      "source": [
        "data"
      ],
      "metadata": {
        "colab": {
          "base_uri": "https://localhost:8080/"
        },
        "id": "lc_JvmKRNIj4",
        "outputId": "bcb96bf7-a861-453f-cc70-0fc994e370c0"
      },
      "execution_count": null,
      "outputs": [
        {
          "output_type": "execute_result",
          "data": {
            "text/plain": [
              "array([[3, 5, 5, 3, 1],\n",
              "       [0, 3, 0, 3, 8],\n",
              "       [1, 1, 6, 8, 0]])"
            ]
          },
          "metadata": {},
          "execution_count": 56
        }
      ]
    },
    {
      "cell_type": "code",
      "source": [
        "np.sum(data,axis=0),np.sum(data,axis=1)"
      ],
      "metadata": {
        "colab": {
          "base_uri": "https://localhost:8080/"
        },
        "id": "Q0h4BGmjM96H",
        "outputId": "6054223e-f12e-417f-81ed-c9bb8923c1ac"
      },
      "execution_count": null,
      "outputs": [
        {
          "output_type": "execute_result",
          "data": {
            "text/plain": [
              "(array([ 4,  9, 11, 14,  9]), array([17, 14, 16]))"
            ]
          },
          "metadata": {},
          "execution_count": 55
        }
      ]
    },
    {
      "cell_type": "code",
      "source": [
        "np.sqrt(data)"
      ],
      "metadata": {
        "colab": {
          "base_uri": "https://localhost:8080/"
        },
        "id": "ehryjVCmNkJa",
        "outputId": "ca4c6d22-900e-4c0c-9e62-f02673d5443e"
      },
      "execution_count": null,
      "outputs": [
        {
          "output_type": "execute_result",
          "data": {
            "text/plain": [
              "array([[1.73205081, 2.23606798, 2.23606798, 1.73205081, 1.        ],\n",
              "       [0.        , 1.73205081, 0.        , 1.73205081, 2.82842712],\n",
              "       [1.        , 1.        , 2.44948974, 2.82842712, 0.        ]])"
            ]
          },
          "metadata": {},
          "execution_count": 57
        }
      ]
    },
    {
      "cell_type": "code",
      "source": [
        "myones = np.ones((3,5))\n",
        "myones"
      ],
      "metadata": {
        "colab": {
          "base_uri": "https://localhost:8080/"
        },
        "id": "9iKojLRrNmrZ",
        "outputId": "5ab99d55-cae7-4004-ceb3-80ca8975a537"
      },
      "execution_count": null,
      "outputs": [
        {
          "output_type": "execute_result",
          "data": {
            "text/plain": [
              "array([[1., 1., 1., 1., 1.],\n",
              "       [1., 1., 1., 1., 1.],\n",
              "       [1., 1., 1., 1., 1.]])"
            ]
          },
          "metadata": {},
          "execution_count": 59
        }
      ]
    },
    {
      "cell_type": "code",
      "source": [
        "np.add(data,myones)"
      ],
      "metadata": {
        "colab": {
          "base_uri": "https://localhost:8080/"
        },
        "id": "ZRpgHUUgOa39",
        "outputId": "e6f13b42-8bc4-481e-ae89-4e030ad706b4"
      },
      "execution_count": null,
      "outputs": [
        {
          "output_type": "execute_result",
          "data": {
            "text/plain": [
              "array([[4., 6., 6., 4., 2.],\n",
              "       [1., 4., 1., 4., 9.],\n",
              "       [2., 2., 7., 9., 1.]])"
            ]
          },
          "metadata": {},
          "execution_count": 60
        }
      ]
    },
    {
      "cell_type": "code",
      "source": [
        "data+3"
      ],
      "metadata": {
        "id": "zFHGkOCJOhNd"
      },
      "execution_count": null,
      "outputs": []
    },
    {
      "cell_type": "code",
      "source": [
        "import numpy as np\n",
        "myarr = np.linspace(1, 28, 10)\n",
        "myarr"
      ],
      "metadata": {
        "colab": {
          "base_uri": "https://localhost:8080/"
        },
        "id": "_W7Rluhw-mRi",
        "outputId": "ead9c450-8bb8-4e4f-87ab-58619ac677de"
      },
      "execution_count": null,
      "outputs": [
        {
          "output_type": "execute_result",
          "data": {
            "text/plain": [
              "array([ 1.,  4.,  7., 10., 13., 16., 19., 22., 25., 28.])"
            ]
          },
          "metadata": {},
          "execution_count": 10
        }
      ]
    },
    {
      "cell_type": "code",
      "source": [
        "myarr.shape"
      ],
      "metadata": {
        "colab": {
          "base_uri": "https://localhost:8080/"
        },
        "id": "4bzA10svC-rD",
        "outputId": "ef8d97e8-aecd-4314-9089-2ec9f5e88593"
      },
      "execution_count": null,
      "outputs": [
        {
          "output_type": "execute_result",
          "data": {
            "text/plain": [
              "(10,)"
            ]
          },
          "metadata": {},
          "execution_count": 11
        }
      ]
    },
    {
      "cell_type": "code",
      "source": [
        "myarr.reshape(2, 5)"
      ],
      "metadata": {
        "colab": {
          "base_uri": "https://localhost:8080/"
        },
        "id": "FreCXNLlDBGa",
        "outputId": "8e52fdcc-4edc-43c9-b865-3da819d4159d"
      },
      "execution_count": null,
      "outputs": [
        {
          "output_type": "execute_result",
          "data": {
            "text/plain": [
              "array([[ 1.,  4.,  7., 10., 13.],\n",
              "       [16., 19., 22., 25., 28.]])"
            ]
          },
          "metadata": {},
          "execution_count": 12
        }
      ]
    },
    {
      "cell_type": "code",
      "source": [
        "myarr.reshape(5, 2)"
      ],
      "metadata": {
        "colab": {
          "base_uri": "https://localhost:8080/"
        },
        "id": "clFr6oeCDE8S",
        "outputId": "9f93d057-e81e-47c5-bf6e-13d382cd326a"
      },
      "execution_count": null,
      "outputs": [
        {
          "output_type": "execute_result",
          "data": {
            "text/plain": [
              "array([[ 1.,  4.],\n",
              "       [ 7., 10.],\n",
              "       [13., 16.],\n",
              "       [19., 22.],\n",
              "       [25., 28.]])"
            ]
          },
          "metadata": {},
          "execution_count": 13
        }
      ]
    },
    {
      "cell_type": "code",
      "source": [
        "data = myarr.reshape(5, 2, 1)\n",
        "data"
      ],
      "metadata": {
        "colab": {
          "base_uri": "https://localhost:8080/"
        },
        "id": "J-pwSuxMDKvq",
        "outputId": "8305fc54-f8e6-4058-c71b-d4fcca8831b7"
      },
      "execution_count": null,
      "outputs": [
        {
          "output_type": "execute_result",
          "data": {
            "text/plain": [
              "array([[[ 1.],\n",
              "        [ 4.]],\n",
              "\n",
              "       [[ 7.],\n",
              "        [10.]],\n",
              "\n",
              "       [[13.],\n",
              "        [16.]],\n",
              "\n",
              "       [[19.],\n",
              "        [22.]],\n",
              "\n",
              "       [[25.],\n",
              "        [28.]]])"
            ]
          },
          "metadata": {},
          "execution_count": 15
        }
      ]
    },
    {
      "cell_type": "code",
      "source": [
        "data.shape"
      ],
      "metadata": {
        "colab": {
          "base_uri": "https://localhost:8080/"
        },
        "id": "isGELJ-0DSyj",
        "outputId": "0bc5baf0-c63c-45ee-e3be-d84afcf6abde"
      },
      "execution_count": null,
      "outputs": [
        {
          "output_type": "execute_result",
          "data": {
            "text/plain": [
              "(5, 2, 1)"
            ]
          },
          "metadata": {},
          "execution_count": 16
        }
      ]
    },
    {
      "cell_type": "code",
      "source": [
        "a = np.array([5,6,7,8])\n",
        "b = np.arange(4)\n",
        "a,b"
      ],
      "metadata": {
        "id": "i73gp17sO8K-",
        "colab": {
          "base_uri": "https://localhost:8080/"
        },
        "outputId": "4418ba62-9fad-4327-84c6-7130fce47f26"
      },
      "execution_count": null,
      "outputs": [
        {
          "output_type": "execute_result",
          "data": {
            "text/plain": [
              "(array([5, 6, 7, 8]), array([0, 1, 2, 3]))"
            ]
          },
          "metadata": {},
          "execution_count": 6
        }
      ]
    },
    {
      "cell_type": "code",
      "source": [
        "a+b, a-b, a*b, b/a, a**b"
      ],
      "metadata": {
        "colab": {
          "base_uri": "https://localhost:8080/"
        },
        "id": "vxSfaL7K-tL6",
        "outputId": "aab0f5b3-42e5-4320-b374-92d5f17a8045"
      },
      "execution_count": null,
      "outputs": [
        {
          "output_type": "execute_result",
          "data": {
            "text/plain": [
              "(array([[ 5,  7,  9, 11],\n",
              "        [ 9, 11, 13, 15]]),\n",
              " array([[5, 5, 5, 5],\n",
              "        [9, 9, 9, 9]]),\n",
              " array([[ 0,  6, 14, 24],\n",
              "        [ 0, 10, 22, 36]]),\n",
              " array([[0.        , 0.16666667, 0.28571429, 0.375     ],\n",
              "        [0.        , 0.1       , 0.18181818, 0.25      ]]),\n",
              " array([[   1,    6,   49,  512],\n",
              "        [   1,   10,  121, 1728]]))"
            ]
          },
          "metadata": {},
          "execution_count": 9
        }
      ]
    },
    {
      "cell_type": "code",
      "source": [
        "a = np.array([5,6,7,8,9,10,11,12]).reshape(2,4)\n",
        "b = np.arange(4)\n",
        "a,b"
      ],
      "metadata": {
        "colab": {
          "base_uri": "https://localhost:8080/"
        },
        "id": "3rm4RSMn_ZTx",
        "outputId": "e1cef467-dd42-42a5-a66a-f7ba5aadbb16"
      },
      "execution_count": null,
      "outputs": [
        {
          "output_type": "execute_result",
          "data": {
            "text/plain": [
              "(array([[ 5,  6,  7,  8],\n",
              "        [ 9, 10, 11, 12]]),\n",
              " array([0, 1, 2, 3]))"
            ]
          },
          "metadata": {},
          "execution_count": 8
        }
      ]
    },
    {
      "cell_type": "code",
      "source": [
        "a = np.arange(1,5).reshape(2,2)\n",
        "b = np.arange(5,9).reshape(2,2)\n",
        "a,b"
      ],
      "metadata": {
        "colab": {
          "base_uri": "https://localhost:8080/"
        },
        "id": "0W9q18L5_1UC",
        "outputId": "46897764-e2e3-4c56-9935-6aa676e9bcb9"
      },
      "execution_count": null,
      "outputs": [
        {
          "output_type": "execute_result",
          "data": {
            "text/plain": [
              "(array([[1, 2],\n",
              "        [3, 4]]),\n",
              " array([[5, 6],\n",
              "        [7, 8]]))"
            ]
          },
          "metadata": {},
          "execution_count": 17
        }
      ]
    },
    {
      "cell_type": "code",
      "source": [
        "a*2"
      ],
      "metadata": {
        "colab": {
          "base_uri": "https://localhost:8080/"
        },
        "id": "R5t50Vf2ELH8",
        "outputId": "cd308a9c-5b59-4e8c-cf49-136884d8140b"
      },
      "execution_count": null,
      "outputs": [
        {
          "output_type": "execute_result",
          "data": {
            "text/plain": [
              "array([[2, 4],\n",
              "       [6, 8]])"
            ]
          },
          "metadata": {},
          "execution_count": 18
        }
      ]
    },
    {
      "cell_type": "code",
      "source": [
        "a*b"
      ],
      "metadata": {
        "colab": {
          "base_uri": "https://localhost:8080/"
        },
        "id": "I5tNKjowEN77",
        "outputId": "90d0d62c-f117-467b-c9dc-3f1f0d8a633c"
      },
      "execution_count": null,
      "outputs": [
        {
          "output_type": "execute_result",
          "data": {
            "text/plain": [
              "array([[ 5, 12],\n",
              "       [21, 32]])"
            ]
          },
          "metadata": {},
          "execution_count": 19
        }
      ]
    },
    {
      "cell_type": "code",
      "source": [
        "data = np.random.randn(10,4)\n",
        "data"
      ],
      "metadata": {
        "colab": {
          "base_uri": "https://localhost:8080/"
        },
        "id": "Uvg7NmXdEw6r",
        "outputId": "f59f9d6a-e571-45d1-9ae6-410dfd5894cb"
      },
      "execution_count": null,
      "outputs": [
        {
          "output_type": "execute_result",
          "data": {
            "text/plain": [
              "array([[-1.04964251e+00,  2.44808227e+00, -1.65126783e-01,\n",
              "         6.93660047e-01],\n",
              "       [ 4.44196521e-02,  2.92296732e-02, -1.71537123e+00,\n",
              "        -5.85028312e-01],\n",
              "       [-9.17160309e-01,  3.52936167e-01,  8.33029325e-01,\n",
              "        -6.20019907e-01],\n",
              "       [-5.82537019e-01,  8.75291611e-01, -3.85391895e-01,\n",
              "         1.16420850e-01],\n",
              "       [ 1.51365478e-01,  4.93897533e-01, -2.25117001e-01,\n",
              "        -1.62974277e+00],\n",
              "       [ 3.95544310e-01, -9.61596074e-01, -1.21210773e-01,\n",
              "         2.35817666e-04],\n",
              "       [-3.62558866e-01, -3.11311908e-01,  4.80137259e-01,\n",
              "         8.07866195e-01],\n",
              "       [ 5.08713212e-03,  1.53555188e-02, -1.26773020e+00,\n",
              "         4.69354027e-01],\n",
              "       [ 1.00558243e+00,  4.06062815e-01, -4.67760822e-01,\n",
              "        -2.22183123e+00],\n",
              "       [-1.22118024e+00,  9.70337227e-02,  9.68169436e-01,\n",
              "        -1.91905250e-01]])"
            ]
          },
          "metadata": {},
          "execution_count": 20
        }
      ]
    },
    {
      "cell_type": "code",
      "source": [
        "data > 0"
      ],
      "metadata": {
        "colab": {
          "base_uri": "https://localhost:8080/"
        },
        "id": "6TsuNbEEFjAs",
        "outputId": "52fdfd5b-1823-4694-c990-f9bebee0b9d9"
      },
      "execution_count": null,
      "outputs": [
        {
          "output_type": "execute_result",
          "data": {
            "text/plain": [
              "array([[False,  True, False,  True],\n",
              "       [ True,  True, False, False],\n",
              "       [False,  True,  True, False],\n",
              "       [False,  True, False,  True],\n",
              "       [ True,  True, False, False],\n",
              "       [ True, False, False,  True],\n",
              "       [False, False,  True,  True],\n",
              "       [ True,  True, False,  True],\n",
              "       [ True,  True, False, False],\n",
              "       [False,  True,  True, False]])"
            ]
          },
          "metadata": {},
          "execution_count": 21
        }
      ]
    },
    {
      "cell_type": "code",
      "source": [
        "data[data>0]"
      ],
      "metadata": {
        "colab": {
          "base_uri": "https://localhost:8080/"
        },
        "id": "tUsSOcCBFuYs",
        "outputId": "949cd97d-99ea-435c-e72e-2354a57a3cc7"
      },
      "execution_count": null,
      "outputs": [
        {
          "output_type": "execute_result",
          "data": {
            "text/plain": [
              "array([2.44808227e+00, 6.93660047e-01, 4.44196521e-02, 2.92296732e-02,\n",
              "       3.52936167e-01, 8.33029325e-01, 8.75291611e-01, 1.16420850e-01,\n",
              "       1.51365478e-01, 4.93897533e-01, 3.95544310e-01, 2.35817666e-04,\n",
              "       4.80137259e-01, 8.07866195e-01, 5.08713212e-03, 1.53555188e-02,\n",
              "       4.69354027e-01, 1.00558243e+00, 4.06062815e-01, 9.70337227e-02,\n",
              "       9.68169436e-01])"
            ]
          },
          "metadata": {},
          "execution_count": 22
        }
      ]
    },
    {
      "cell_type": "code",
      "source": [
        "from matplotlib import pyplot as plt"
      ],
      "metadata": {
        "id": "S1b-Pfb_HFNu"
      },
      "execution_count": null,
      "outputs": []
    },
    {
      "cell_type": "code",
      "source": [
        "x = np.random.rand(100, 1) * 2\n",
        "x"
      ],
      "metadata": {
        "colab": {
          "base_uri": "https://localhost:8080/"
        },
        "id": "nLfaVvK4HT_t",
        "outputId": "eca7c3be-9cc1-483b-d85c-b66b8b0255d1"
      },
      "execution_count": null,
      "outputs": [
        {
          "output_type": "execute_result",
          "data": {
            "text/plain": [
              "array([[1.96548542],\n",
              "       [1.60501138],\n",
              "       [0.29304157],\n",
              "       [0.79384035],\n",
              "       [0.12080773],\n",
              "       [1.11106252],\n",
              "       [1.53776233],\n",
              "       [1.80352957],\n",
              "       [1.06144989],\n",
              "       [0.0068452 ],\n",
              "       [1.37745995],\n",
              "       [1.43489677],\n",
              "       [0.41881285],\n",
              "       [0.78474691],\n",
              "       [0.88440576],\n",
              "       [1.89203548],\n",
              "       [1.00500302],\n",
              "       [1.47160522],\n",
              "       [0.82489319],\n",
              "       [1.22337291],\n",
              "       [0.89177368],\n",
              "       [1.03397183],\n",
              "       [1.30813326],\n",
              "       [1.67898314],\n",
              "       [0.1761776 ],\n",
              "       [0.40815815],\n",
              "       [0.56083027],\n",
              "       [0.00604326],\n",
              "       [0.90288535],\n",
              "       [0.94976729],\n",
              "       [1.93828327],\n",
              "       [1.28570311],\n",
              "       [0.87662555],\n",
              "       [1.99889552],\n",
              "       [1.36548833],\n",
              "       [0.16865197],\n",
              "       [0.04221737],\n",
              "       [1.08443412],\n",
              "       [0.2876005 ],\n",
              "       [0.44571955],\n",
              "       [0.84972885],\n",
              "       [0.70804873],\n",
              "       [1.15691541],\n",
              "       [1.71092861],\n",
              "       [1.62052159],\n",
              "       [0.40401376],\n",
              "       [1.53997781],\n",
              "       [1.51024563],\n",
              "       [0.73891098],\n",
              "       [0.64090872],\n",
              "       [0.32551463],\n",
              "       [0.11036827],\n",
              "       [0.30515349],\n",
              "       [1.40121809],\n",
              "       [0.42489943],\n",
              "       [1.44159973],\n",
              "       [0.03262133],\n",
              "       [1.57660104],\n",
              "       [1.68602913],\n",
              "       [1.81344757],\n",
              "       [1.84365686],\n",
              "       [0.83106736],\n",
              "       [0.96542781],\n",
              "       [1.40375171],\n",
              "       [0.60339964],\n",
              "       [1.93344115],\n",
              "       [0.87161533],\n",
              "       [0.85188372],\n",
              "       [1.74731327],\n",
              "       [0.49304578],\n",
              "       [1.65412184],\n",
              "       [1.0788501 ],\n",
              "       [1.02170951],\n",
              "       [0.03070481],\n",
              "       [0.18271933],\n",
              "       [0.91259354],\n",
              "       [0.78764423],\n",
              "       [1.47058482],\n",
              "       [1.85664027],\n",
              "       [1.0414465 ],\n",
              "       [0.25035232],\n",
              "       [0.75574583],\n",
              "       [0.84414101],\n",
              "       [0.1429785 ],\n",
              "       [0.59272437],\n",
              "       [1.93199395],\n",
              "       [0.04676895],\n",
              "       [0.15324522],\n",
              "       [0.87029918],\n",
              "       [1.94043876],\n",
              "       [1.22359595],\n",
              "       [0.85273554],\n",
              "       [1.34529374],\n",
              "       [1.64218344],\n",
              "       [1.10493928],\n",
              "       [1.25444462],\n",
              "       [1.95109886],\n",
              "       [1.97720746],\n",
              "       [0.17567147],\n",
              "       [0.32842227]])"
            ]
          },
          "metadata": {},
          "execution_count": 36
        }
      ]
    },
    {
      "cell_type": "code",
      "source": [
        "y = 4 + 3 * x + np.random.randn(100, 1)\n",
        "y"
      ],
      "metadata": {
        "colab": {
          "base_uri": "https://localhost:8080/"
        },
        "id": "yaC_xH8DHfsO",
        "outputId": "2b432811-e241-4bdf-ec01-66a6ee29940e"
      },
      "execution_count": null,
      "outputs": [
        {
          "output_type": "execute_result",
          "data": {
            "text/plain": [
              "array([[ 8.98007149],\n",
              "       [ 8.3998121 ],\n",
              "       [ 6.14690226],\n",
              "       [ 6.46790664],\n",
              "       [ 1.85475888],\n",
              "       [ 7.43648014],\n",
              "       [ 8.61536633],\n",
              "       [10.16545899],\n",
              "       [ 7.16578236],\n",
              "       [ 5.58330588],\n",
              "       [ 7.84204527],\n",
              "       [ 8.09959077],\n",
              "       [ 3.53536469],\n",
              "       [ 6.5810447 ],\n",
              "       [ 6.43999558],\n",
              "       [ 9.95751772],\n",
              "       [ 6.26266959],\n",
              "       [ 9.31702871],\n",
              "       [ 4.97554423],\n",
              "       [ 6.96941797],\n",
              "       [ 7.62626557],\n",
              "       [ 7.11229344],\n",
              "       [ 9.11650877],\n",
              "       [ 8.02736778],\n",
              "       [ 3.17210339],\n",
              "       [ 7.00190512],\n",
              "       [ 5.55014918],\n",
              "       [ 2.37692701],\n",
              "       [ 6.61274059],\n",
              "       [ 5.91586102],\n",
              "       [10.70357736],\n",
              "       [ 7.60921299],\n",
              "       [ 7.49529343],\n",
              "       [ 7.66163191],\n",
              "       [10.94217853],\n",
              "       [ 4.79048551],\n",
              "       [ 5.23802026],\n",
              "       [ 6.4281749 ],\n",
              "       [ 5.23216405],\n",
              "       [ 4.9000744 ],\n",
              "       [ 8.30135191],\n",
              "       [ 5.51815282],\n",
              "       [ 7.57130937],\n",
              "       [ 9.64747236],\n",
              "       [ 9.06399624],\n",
              "       [ 5.59019641],\n",
              "       [ 8.23365277],\n",
              "       [ 7.68484327],\n",
              "       [ 7.64298433],\n",
              "       [ 5.96330515],\n",
              "       [ 5.03924533],\n",
              "       [ 3.01861844],\n",
              "       [ 5.76530807],\n",
              "       [ 7.59040848],\n",
              "       [ 4.81031609],\n",
              "       [ 7.91848262],\n",
              "       [ 4.57832978],\n",
              "       [ 8.1935035 ],\n",
              "       [ 5.83608553],\n",
              "       [10.00139498],\n",
              "       [ 9.67894136],\n",
              "       [ 6.34581606],\n",
              "       [ 8.27876076],\n",
              "       [ 7.6695528 ],\n",
              "       [ 4.5673149 ],\n",
              "       [ 8.28136023],\n",
              "       [ 5.96658842],\n",
              "       [ 5.97021249],\n",
              "       [10.09937407],\n",
              "       [ 6.37524262],\n",
              "       [ 9.77259126],\n",
              "       [ 7.97250348],\n",
              "       [ 7.51820741],\n",
              "       [ 3.99624262],\n",
              "       [ 4.85416684],\n",
              "       [ 8.38761372],\n",
              "       [ 5.80684679],\n",
              "       [ 7.04416694],\n",
              "       [ 8.91522158],\n",
              "       [ 8.8201156 ],\n",
              "       [ 4.13125674],\n",
              "       [ 5.19472805],\n",
              "       [ 6.07883304],\n",
              "       [ 4.11413686],\n",
              "       [ 6.35612875],\n",
              "       [ 9.27968366],\n",
              "       [ 3.62617117],\n",
              "       [ 5.17158586],\n",
              "       [ 7.64631908],\n",
              "       [ 8.66071784],\n",
              "       [ 6.69018601],\n",
              "       [ 5.88599376],\n",
              "       [ 8.89359627],\n",
              "       [ 9.45805762],\n",
              "       [ 7.04964025],\n",
              "       [ 7.78214082],\n",
              "       [10.42364373],\n",
              "       [ 9.86544027],\n",
              "       [ 4.47639135],\n",
              "       [ 4.621916  ]])"
            ]
          },
          "metadata": {},
          "execution_count": 43
        }
      ]
    },
    {
      "cell_type": "code",
      "source": [
        "plt.plot(x,y,'b.')"
      ],
      "metadata": {
        "colab": {
          "base_uri": "https://localhost:8080/",
          "height": 447
        },
        "id": "KdVSi7y7HyqN",
        "outputId": "b59aba1b-3e84-4ccc-b05b-c4053d9082de"
      },
      "execution_count": null,
      "outputs": [
        {
          "output_type": "execute_result",
          "data": {
            "text/plain": [
              "[<matplotlib.lines.Line2D at 0x7966382cdcf0>]"
            ]
          },
          "metadata": {},
          "execution_count": 44
        },
        {
          "output_type": "display_data",
          "data": {
            "text/plain": [
              "<Figure size 640x480 with 1 Axes>"
            ],
            "image/png": "[encoded data removed]"
          },
          "metadata": {}
        }
      ]
    },
    {
      "cell_type": "code",
      "source": [
        "X_b = np.c_[np.ones((100, 1)), x]  # add x0 = 1 to each instance\n",
        "X_b"
      ],
      "metadata": {
        "colab": {
          "base_uri": "https://localhost:8080/"
        },
        "id": "76KlLDUCKpaa",
        "outputId": "6454f767-28f8-496c-8566-089cb5537e44"
      },
      "execution_count": null,
      "outputs": [
        {
          "output_type": "execute_result",
          "data": {
            "text/plain": [
              "array([[1.        , 1.96548542],\n",
              "       [1.        , 1.60501138],\n",
              "       [1.        , 0.29304157],\n",
              "       [1.        , 0.79384035],\n",
              "       [1.        , 0.12080773],\n",
              "       [1.        , 1.11106252],\n",
              "       [1.        , 1.53776233],\n",
              "       [1.        , 1.80352957],\n",
              "       [1.        , 1.06144989],\n",
              "       [1.        , 0.0068452 ],\n",
              "       [1.        , 1.37745995],\n",
              "       [1.        , 1.43489677],\n",
              "       [1.        , 0.41881285],\n",
              "       [1.        , 0.78474691],\n",
              "       [1.        , 0.88440576],\n",
              "       [1.        , 1.89203548],\n",
              "       [1.        , 1.00500302],\n",
              "       [1.        , 1.47160522],\n",
              "       [1.        , 0.82489319],\n",
              "       [1.        , 1.22337291],\n",
              "       [1.        , 0.89177368],\n",
              "       [1.        , 1.03397183],\n",
              "       [1.        , 1.30813326],\n",
              "       [1.        , 1.67898314],\n",
              "       [1.        , 0.1761776 ],\n",
              "       [1.        , 0.40815815],\n",
              "       [1.        , 0.56083027],\n",
              "       [1.        , 0.00604326],\n",
              "       [1.        , 0.90288535],\n",
              "       [1.        , 0.94976729],\n",
              "       [1.        , 1.93828327],\n",
              "       [1.        , 1.28570311],\n",
              "       [1.        , 0.87662555],\n",
              "       [1.        , 1.99889552],\n",
              "       [1.        , 1.36548833],\n",
              "       [1.        , 0.16865197],\n",
              "       [1.        , 0.04221737],\n",
              "       [1.        , 1.08443412],\n",
              "       [1.        , 0.2876005 ],\n",
              "       [1.        , 0.44571955],\n",
              "       [1.        , 0.84972885],\n",
              "       [1.        , 0.70804873],\n",
              "       [1.        , 1.15691541],\n",
              "       [1.        , 1.71092861],\n",
              "       [1.        , 1.62052159],\n",
              "       [1.        , 0.40401376],\n",
              "       [1.        , 1.53997781],\n",
              "       [1.        , 1.51024563],\n",
              "       [1.        , 0.73891098],\n",
              "       [1.        , 0.64090872],\n",
              "       [1.        , 0.32551463],\n",
              "       [1.        , 0.11036827],\n",
              "       [1.        , 0.30515349],\n",
              "       [1.        , 1.40121809],\n",
              "       [1.        , 0.42489943],\n",
              "       [1.        , 1.44159973],\n",
              "       [1.        , 0.03262133],\n",
              "       [1.        , 1.57660104],\n",
              "       [1.        , 1.68602913],\n",
              "       [1.        , 1.81344757],\n",
              "       [1.        , 1.84365686],\n",
              "       [1.        , 0.83106736],\n",
              "       [1.        , 0.96542781],\n",
              "       [1.        , 1.40375171],\n",
              "       [1.        , 0.60339964],\n",
              "       [1.        , 1.93344115],\n",
              "       [1.        , 0.87161533],\n",
              "       [1.        , 0.85188372],\n",
              "       [1.        , 1.74731327],\n",
              "       [1.        , 0.49304578],\n",
              "       [1.        , 1.65412184],\n",
              "       [1.        , 1.0788501 ],\n",
              "       [1.        , 1.02170951],\n",
              "       [1.        , 0.03070481],\n",
              "       [1.        , 0.18271933],\n",
              "       [1.        , 0.91259354],\n",
              "       [1.        , 0.78764423],\n",
              "       [1.        , 1.47058482],\n",
              "       [1.        , 1.85664027],\n",
              "       [1.        , 1.0414465 ],\n",
              "       [1.        , 0.25035232],\n",
              "       [1.        , 0.75574583],\n",
              "       [1.        , 0.84414101],\n",
              "       [1.        , 0.1429785 ],\n",
              "       [1.        , 0.59272437],\n",
              "       [1.        , 1.93199395],\n",
              "       [1.        , 0.04676895],\n",
              "       [1.        , 0.15324522],\n",
              "       [1.        , 0.87029918],\n",
              "       [1.        , 1.94043876],\n",
              "       [1.        , 1.22359595],\n",
              "       [1.        , 0.85273554],\n",
              "       [1.        , 1.34529374],\n",
              "       [1.        , 1.64218344],\n",
              "       [1.        , 1.10493928],\n",
              "       [1.        , 1.25444462],\n",
              "       [1.        , 1.95109886],\n",
              "       [1.        , 1.97720746],\n",
              "       [1.        , 0.17567147],\n",
              "       [1.        , 0.32842227]])"
            ]
          },
          "metadata": {},
          "execution_count": 45
        }
      ]
    },
    {
      "cell_type": "code",
      "source": [
        "theta = np.linalg.inv(X_b.T.dot(X_b)).dot(X_b.T).dot(y)\n",
        "theta"
      ],
      "metadata": {
        "colab": {
          "base_uri": "https://localhost:8080/"
        },
        "id": "T_dhlA8hJzMh",
        "outputId": "5892c194-361e-4c77-ea62-d5a7941ac872"
      },
      "execution_count": null,
      "outputs": [
        {
          "output_type": "execute_result",
          "data": {
            "text/plain": [
              "array([[4.05371367],\n",
              "       [2.88662972]])"
            ]
          },
          "metadata": {},
          "execution_count": 47
        }
      ]
    },
    {
      "cell_type": "code",
      "source": [
        "theta = np.linalg.inv(X_b.T@X_b)@X_b.T@y\n",
        "theta"
      ],
      "metadata": {
        "colab": {
          "base_uri": "https://localhost:8080/"
        },
        "id": "Y051nJKnLTc7",
        "outputId": "86422f52-71cb-4353-89df-83381218434d"
      },
      "execution_count": null,
      "outputs": [
        {
          "output_type": "execute_result",
          "data": {
            "text/plain": [
              "array([[4.05371367],\n",
              "       [2.88662972]])"
            ]
          },
          "metadata": {},
          "execution_count": 48
        }
      ]
    },
    {
      "cell_type": "code",
      "source": [
        "X_new = np.array([[0], [2]])\n",
        "X_new_b = np.c_[np.ones((2, 1)), X_new]  # add x0 = 1 to each instance\n",
        "y_predict = X_new_b.dot(theta)\n",
        "X_new_b, y_predict"
      ],
      "metadata": {
        "colab": {
          "base_uri": "https://localhost:8080/"
        },
        "id": "lSX6ebmNMzzl",
        "outputId": "3c7ba983-3a3d-4a64-a240-fb809c22ab70"
      },
      "execution_count": null,
      "outputs": [
        {
          "output_type": "execute_result",
          "data": {
            "text/plain": [
              "(array([[1., 0.],\n",
              "        [1., 2.]]),\n",
              " array([[ 4.61895579,  4.42380064,  8.98560349,  9.44211884,  8.89972781,\n",
              "          6.20924154,  5.94430103,  8.33194203,  8.22726463,  4.8758899 ,\n",
              "          3.77707784,  9.36015719,  3.82655449,  4.7537396 ,  6.23733801,\n",
              "          7.407255  ,  9.44431459,  8.54786746,  6.05244054,  4.77979336,\n",
              "          5.92937673,  8.71393407,  4.09018376,  8.52464271,  7.28067187,\n",
              "          5.39725704,  4.61327666,  8.81269681,  7.06517349,  4.86212873,\n",
              "          8.98897385,  7.83404914,  5.45620242,  4.55667419,  4.00784478,\n",
              "          6.86810555,  8.31469422,  6.96406411,  5.55171864,  5.56506068,\n",
              "          7.91105046,  8.11612105,  6.7363162 ,  5.20912417,  7.86653041,\n",
              "          7.23375948,  7.04425842,  7.91690457,  7.72968516,  8.9205318 ,\n",
              "          7.68718572,  4.87742454,  7.59350698,  7.47554353,  7.29989318,\n",
              "          5.35863096,  7.73096333,  7.96926083,  7.30390012,  5.22834017,\n",
              "          8.90088142,  8.29955591,  7.9085166 ,  9.67054932,  5.51917046,\n",
              "          7.578772  ,  4.7466715 ,  5.598058  ,  4.21672302,  9.34648599,\n",
              "          8.22616306,  8.11598048,  9.32359441,  6.63688965,  7.48727303,\n",
              "          6.10221691,  7.46616299,  7.31436719,  7.98020566,  6.46255988,\n",
              "          9.44121979,  9.42679095,  3.85784108,  5.39756488,  9.22767196,\n",
              "          3.98455362,  6.13095239,  6.93024143,  6.67738842,  8.75393784,\n",
              "          4.72903145,  3.7322466 ,  5.23208483,  3.82114145,  8.22302088,\n",
              "          9.62370986,  8.64190642,  5.73413064,  7.64117555,  9.55795236],\n",
              "        [ 4.97555714,  4.780402  ,  9.34220484,  9.79872019,  9.25632917,\n",
              "          6.56584289,  6.30090239,  8.68854339,  8.58386599,  5.23249125,\n",
              "          4.13367919,  9.71675854,  4.18315585,  5.11034095,  6.59393937,\n",
              "          7.76385636,  9.80091594,  8.90446882,  6.4090419 ,  5.13639471,\n",
              "          6.28597808,  9.07053542,  4.44678511,  8.88124406,  7.63727322,\n",
              "          5.75385839,  4.96987801,  9.16929817,  7.42177485,  5.21873009,\n",
              "          9.34557521,  8.1906505 ,  5.81280378,  4.91327554,  4.36444613,\n",
              "          7.22470691,  8.67129557,  7.32066547,  5.90832   ,  5.92166204,\n",
              "          8.26765182,  8.47272241,  7.09291756,  5.56572552,  8.22313176,\n",
              "          7.59036083,  7.40085977,  8.27350593,  8.08628652,  9.27713316,\n",
              "          8.04378708,  5.23402589,  7.95010833,  7.83214488,  7.65649454,\n",
              "          5.71523231,  8.08756469,  8.32586218,  7.66050147,  5.58494153,\n",
              "          9.25748278,  8.65615727,  8.26511795, 10.02715068,  5.87577182,\n",
              "          7.93537336,  5.10327285,  5.95465936,  4.57332437,  9.70308734,\n",
              "          8.58276442,  8.47258184,  9.68019576,  6.99349101,  7.84387439,\n",
              "          6.45881826,  7.82276434,  7.67096854,  8.33680701,  6.81916124,\n",
              "          9.79782114,  9.78339231,  4.21444244,  5.75416624,  9.58427331,\n",
              "          4.34115497,  6.48755374,  7.28684279,  7.03398977,  9.11053919,\n",
              "          5.08563281,  4.08884795,  5.58868618,  4.17774281,  8.57962224,\n",
              "          9.98031122,  8.99850777,  6.09073199,  7.9977769 ,  9.91455371]]))"
            ]
          },
          "metadata": {},
          "execution_count": 40
        }
      ]
    },
    {
      "cell_type": "code",
      "source": [
        "plt.plot(X_new, y_predict, \"r-\", linewidth=2, label=\"Predictions\")\n",
        "plt.plot(x, y, \"b.\")\n",
        "\n",
        "plt.xlabel(\"$x_1$\", fontsize=18)\n",
        "plt.ylabel(\"$y$\", rotation=0, fontsize=18)\n",
        "plt.legend(loc=\"upper left\", fontsize=14)\n",
        "plt.axis([0, 2, 0, 15])"
      ],
      "metadata": {
        "id": "cRS6DGsEM0-O"
      },
      "execution_count": null,
      "outputs": []
    },
    {
      "cell_type": "code",
      "source": [
        "import numpy as np\n",
        "import pandas as pd\n",
        "from matplotlib import pyplot as plot"
      ],
      "metadata": {
        "id": "Ih9qFy0CTOUH"
      },
      "execution_count": null,
      "outputs": []
    },
    {
      "cell_type": "code",
      "source": [
        "s = pd.Series(data=np.arange(10,20,-3,4,5,-10,3,4,6,8,12,30.2))\n",
        "s"
      ],
      "metadata": {
        "colab": {
          "base_uri": "https://localhost:8080/",
          "height": 159
        },
        "id": "oJdSZHEUTXjX",
        "outputId": "40ffa023-dead-41a8-e3e7-03de527571d8"
      },
      "execution_count": null,
      "outputs": [
        {
          "output_type": "error",
          "ename": "TypeError",
          "evalue": "arange() takes from 0 to 4 positional arguments but 12 were given",
          "traceback": [
            "\u001b[0;31m---------------------------------------------------------------------------\u001b[0m",
            "\u001b[0;31mTypeError\u001b[0m                                 Traceback (most recent call last)",
            "\u001b[0;32m<ipython-input-57-a5181cb54773>\u001b[0m in \u001b[0;36m<cell line: 1>\u001b[0;34m()\u001b[0m\n\u001b[0;32m----> 1\u001b[0;31m \u001b[0ms\u001b[0m \u001b[0;34m=\u001b[0m \u001b[0mpd\u001b[0m\u001b[0;34m.\u001b[0m\u001b[0mSeries\u001b[0m\u001b[0;34m(\u001b[0m\u001b[0mdata\u001b[0m\u001b[0;34m=\u001b[0m\u001b[0mnp\u001b[0m\u001b[0;34m.\u001b[0m\u001b[0marange\u001b[0m\u001b[0;34m(\u001b[0m\u001b[0;36m10\u001b[0m\u001b[0;34m,\u001b[0m\u001b[0;36m20\u001b[0m\u001b[0;34m,\u001b[0m\u001b[0;34m-\u001b[0m\u001b[0;36m3\u001b[0m\u001b[0;34m,\u001b[0m\u001b[0;36m4\u001b[0m\u001b[0;34m,\u001b[0m\u001b[0;36m5\u001b[0m\u001b[0;34m,\u001b[0m\u001b[0;34m-\u001b[0m\u001b[0;36m10\u001b[0m\u001b[0;34m,\u001b[0m\u001b[0;36m3\u001b[0m\u001b[0;34m,\u001b[0m\u001b[0;36m4\u001b[0m\u001b[0;34m,\u001b[0m\u001b[0;36m6\u001b[0m\u001b[0;34m,\u001b[0m\u001b[0;36m8\u001b[0m\u001b[0;34m,\u001b[0m\u001b[0;36m12\u001b[0m\u001b[0;34m,\u001b[0m\u001b[0;36m30.2\u001b[0m\u001b[0;34m)\u001b[0m\u001b[0;34m)\u001b[0m\u001b[0;34m\u001b[0m\u001b[0;34m\u001b[0m\u001b[0m\n\u001b[0m\u001b[1;32m      2\u001b[0m \u001b[0ms\u001b[0m\u001b[0;34m\u001b[0m\u001b[0;34m\u001b[0m\u001b[0m\n",
            "\u001b[0;31mTypeError\u001b[0m: arange() takes from 0 to 4 positional arguments but 12 were given"
          ]
        }
      ]
    },
    {
      "cell_type": "code",
      "source": [
        "s['a']"
      ],
      "metadata": {
        "colab": {
          "base_uri": "https://localhost:8080/"
        },
        "id": "B_KgGuhTUEN4",
        "outputId": "daf80b00-8844-4fed-9a03-e2faeb7a5c27"
      },
      "execution_count": null,
      "outputs": [
        {
          "output_type": "execute_result",
          "data": {
            "text/plain": [
              "10.0"
            ]
          },
          "metadata": {},
          "execution_count": 54
        }
      ]
    }
  ]
}