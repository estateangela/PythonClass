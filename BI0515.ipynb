{
  "nbformat": 4,
  "nbformat_minor": 0,
  "metadata": {
    "colab": {
      "provenance": [],
      "authorship_tag": "ABX9TyNlgj7SkeUYMYFeF/5pX5By",
      "include_colab_link": true
    },
    "kernelspec": {
      "name": "python3",
      "display_name": "Python 3"
    },
    "language_info": {
      "name": "python"
    }
  },
  "cells": [
    {
      "cell_type": "markdown",
      "metadata": {
        "id": "view-in-github",
        "colab_type": "text"
      },
      "source": [
        "<a href=\"https://colab.research.google.com/github/estateangela/PythonClass/blob/main/BI0515.ipynb\" target=\"_parent\"><img src=\"https://colab.research.google.com/assets/colab-badge.svg\" alt=\"Open In Colab\"/></a>"
      ]
    },
    {
      "cell_type": "code",
      "execution_count": 1,
      "metadata": {
        "id": "eq-eRzcx4NCZ"
      },
      "outputs": [],
      "source": [
        "import numpy as np"
      ]
    },
    {
      "cell_type": "code",
      "source": [
        "n1d = np.array([1,2,3])\n",
        "n1d , n1d.shape"
      ],
      "metadata": {
        "colab": {
          "base_uri": "https://localhost:8080/"
        },
        "id": "4llCBEmW4Zij",
        "outputId": "0e913f89-89be-4654-d176-8fedd58de6a2"
      },
      "execution_count": 2,
      "outputs": [
        {
          "output_type": "execute_result",
          "data": {
            "text/plain": [
              "(array([1, 2, 3]), (3,))"
            ]
          },
          "metadata": {},
          "execution_count": 2
        }
      ]
    },
    {
      "cell_type": "code",
      "source": [
        "n1d[2] = 10\n",
        "n1d"
      ],
      "metadata": {
        "colab": {
          "base_uri": "https://localhost:8080/"
        },
        "id": "08dc43wB4vEl",
        "outputId": "7e398fc3-0396-4b26-98eb-0055cfac5b05"
      },
      "execution_count": 3,
      "outputs": [
        {
          "output_type": "execute_result",
          "data": {
            "text/plain": [
              "array([ 1,  2, 10])"
            ]
          },
          "metadata": {},
          "execution_count": 3
        }
      ]
    },
    {
      "cell_type": "code",
      "source": [
        "n2d = np.array([[1,2,3],[14,125,16]])\n",
        "n2d,n2d.shape"
      ],
      "metadata": {
        "colab": {
          "base_uri": "https://localhost:8080/"
        },
        "id": "ra4TL3v45MAj",
        "outputId": "7292b1c1-a3a2-4b4b-cd71-64c1e454189b"
      },
      "execution_count": 4,
      "outputs": [
        {
          "output_type": "execute_result",
          "data": {
            "text/plain": [
              "(array([[  1,   2,   3],\n",
              "        [ 14, 125,  16]]),\n",
              " (2, 3))"
            ]
          },
          "metadata": {},
          "execution_count": 4
        }
      ]
    },
    {
      "cell_type": "code",
      "source": [
        "'n2d[0][1]=',n2d[0][1],'n2d[0,1]=',n2d[0,1]"
      ],
      "metadata": {
        "colab": {
          "base_uri": "https://localhost:8080/"
        },
        "id": "xhwcDwjN5ao1",
        "outputId": "bdd5a7ba-43fa-45d4-e9e2-c1ee0b39889a"
      },
      "execution_count": 5,
      "outputs": [
        {
          "output_type": "execute_result",
          "data": {
            "text/plain": [
              "('n2d[0][1]=', 2, 'n2d[0,1]=', 2)"
            ]
          },
          "metadata": {},
          "execution_count": 5
        }
      ]
    },
    {
      "cell_type": "code",
      "source": [
        "n2d[0,-1]"
      ],
      "metadata": {
        "colab": {
          "base_uri": "https://localhost:8080/"
        },
        "id": "m2XQrqH754li",
        "outputId": "e3ecc1df-2b72-4c0e-a267-4e8833aaf9c0"
      },
      "execution_count": 6,
      "outputs": [
        {
          "output_type": "execute_result",
          "data": {
            "text/plain": [
              "3"
            ]
          },
          "metadata": {},
          "execution_count": 6
        }
      ]
    },
    {
      "cell_type": "code",
      "source": [
        "n2d[-1]"
      ],
      "metadata": {
        "colab": {
          "base_uri": "https://localhost:8080/"
        },
        "id": "GcQaTlwB6Tf4",
        "outputId": "f75fe826-5ebe-4651-e894-e279776f4a36"
      },
      "execution_count": 7,
      "outputs": [
        {
          "output_type": "execute_result",
          "data": {
            "text/plain": [
              "array([ 14, 125,  16])"
            ]
          },
          "metadata": {},
          "execution_count": 7
        }
      ]
    },
    {
      "cell_type": "code",
      "source": [
        "n1d = [1,2,3,4,5,6,7,8,9]\n",
        "n1d[2:-2] #頭包含尾不包含\n",
        "n1d[2:-2:3]"
      ],
      "metadata": {
        "colab": {
          "base_uri": "https://localhost:8080/"
        },
        "id": "ZlDN_2oc6dhq",
        "outputId": "c069f2e7-ef34-40ee-8954-c6d36c616cec"
      },
      "execution_count": 10,
      "outputs": [
        {
          "output_type": "execute_result",
          "data": {
            "text/plain": [
              "[3, 6]"
            ]
          },
          "metadata": {},
          "execution_count": 10
        }
      ]
    },
    {
      "cell_type": "code",
      "source": [
        "print(n1d[:-2])\n",
        "print(n1d[1:])\n",
        "print(n1d[1:len(n1d)])"
      ],
      "metadata": {
        "colab": {
          "base_uri": "https://localhost:8080/"
        },
        "id": "twteHuIk7ZU8",
        "outputId": "1866ba7a-60c8-4317-f0f4-722e4eb2446e"
      },
      "execution_count": 11,
      "outputs": [
        {
          "output_type": "stream",
          "name": "stdout",
          "text": [
            "[1, 2, 3, 4, 5, 6, 7]\n",
            "[2, 3, 4, 5, 6, 7, 8, 9]\n",
            "[2, 3, 4, 5, 6, 7, 8, 9]\n"
          ]
        }
      ]
    },
    {
      "cell_type": "code",
      "source": [
        "n2d = np.array([[1,2,3],[4,5,6],[7,8,9],[10,11,12]])\n",
        "n2d, n2d.shape"
      ],
      "metadata": {
        "colab": {
          "base_uri": "https://localhost:8080/"
        },
        "id": "Hu6jpiao815D",
        "outputId": "3ab29671-a8cb-44c4-9e9e-83814f0ee01c"
      },
      "execution_count": 14,
      "outputs": [
        {
          "output_type": "execute_result",
          "data": {
            "text/plain": [
              "(array([[ 1,  2,  3],\n",
              "        [ 4,  5,  6],\n",
              "        [ 7,  8,  9],\n",
              "        [10, 11, 12]]),\n",
              " (4, 3))"
            ]
          },
          "metadata": {},
          "execution_count": 14
        }
      ]
    },
    {
      "cell_type": "code",
      "source": [
        "n2d[3,1], n2d[1:3,1], n2d[0:3,0:2], n2d[1:3,1:2]"
      ],
      "metadata": {
        "colab": {
          "base_uri": "https://localhost:8080/"
        },
        "id": "DXns2hpw9Ken",
        "outputId": "0fcdb65f-078e-43d1-c371-fff0f2584363"
      },
      "execution_count": 17,
      "outputs": [
        {
          "output_type": "execute_result",
          "data": {
            "text/plain": [
              "(11,\n",
              " array([5, 8]),\n",
              " array([[1, 2],\n",
              "        [4, 5],\n",
              "        [7, 8]]),\n",
              " array([[5],\n",
              "        [8]]))"
            ]
          },
          "metadata": {},
          "execution_count": 17
        }
      ]
    },
    {
      "cell_type": "code",
      "source": [
        "n2d[1,1:3],n2d[3,1:3]"
      ],
      "metadata": {
        "colab": {
          "base_uri": "https://localhost:8080/"
        },
        "id": "230guKH8BH8S",
        "outputId": "5d9f7071-1a7b-4a73-a78d-c6bf82ca6c12"
      },
      "execution_count": 21,
      "outputs": [
        {
          "output_type": "execute_result",
          "data": {
            "text/plain": [
              "(array([5, 6]), array([11, 12]))"
            ]
          },
          "metadata": {},
          "execution_count": 21
        }
      ]
    },
    {
      "cell_type": "code",
      "source": [
        "np.zeros((3,3,4)),np.empty((3,3,4))"
      ],
      "metadata": {
        "colab": {
          "base_uri": "https://localhost:8080/"
        },
        "id": "0bM8Q7saC2cW",
        "outputId": "dd163618-cd93-463f-9a07-8d31e455e714"
      },
      "execution_count": 23,
      "outputs": [
        {
          "output_type": "execute_result",
          "data": {
            "text/plain": [
              "(array([[[0., 0., 0., 0.],\n",
              "         [0., 0., 0., 0.],\n",
              "         [0., 0., 0., 0.]],\n",
              " \n",
              "        [[0., 0., 0., 0.],\n",
              "         [0., 0., 0., 0.],\n",
              "         [0., 0., 0., 0.]],\n",
              " \n",
              "        [[0., 0., 0., 0.],\n",
              "         [0., 0., 0., 0.],\n",
              "         [0., 0., 0., 0.]]]),\n",
              " array([[[4.77644210e-310, 0.00000000e+000, 4.95268267e+223,\n",
              "          7.23786621e+159],\n",
              "         [3.02907763e-152, 1.39806872e-152, 5.98129759e-154,\n",
              "          2.52303223e-258],\n",
              "         [4.47593804e-091, 1.81644122e+223, 2.64519876e+185,\n",
              "          2.21002231e+214]],\n",
              " \n",
              "        [[1.96930981e+243, 2.64521684e+185, 7.36496487e+271,\n",
              "          1.17567369e+214],\n",
              "         [3.17095813e+180, 7.47727343e+247, 1.67432290e+243,\n",
              "          4.88725514e+199],\n",
              "         [1.46923002e+195, 2.44048419e-152, 6.20203970e+223,\n",
              "          5.46653043e+241]],\n",
              " \n",
              "        [[3.28095935e-085, 2.23209619e+271, 2.46598535e-154,\n",
              "          4.47593816e-091],\n",
              "         [6.01346953e-154, 2.17235227e-153, 1.69201561e+190,\n",
              "          7.49744161e+247],\n",
              "         [3.42702532e-062, 2.44151111e-154, 7.13637444e+159,\n",
              "          4.94065646e-323]]]))"
            ]
          },
          "metadata": {},
          "execution_count": 23
        }
      ]
    },
    {
      "cell_type": "code",
      "source": [
        "np.linspace(0,100,10)"
      ],
      "metadata": {
        "colab": {
          "base_uri": "https://localhost:8080/"
        },
        "id": "19liK6DSEfRA",
        "outputId": "75b34986-b590-46ac-de0c-44fbfa647cd9"
      },
      "execution_count": 24,
      "outputs": [
        {
          "output_type": "execute_result",
          "data": {
            "text/plain": [
              "array([  0.        ,  11.11111111,  22.22222222,  33.33333333,\n",
              "        44.44444444,  55.55555556,  66.66666667,  77.77777778,\n",
              "        88.88888889, 100.        ])"
            ]
          },
          "metadata": {},
          "execution_count": 24
        }
      ]
    },
    {
      "cell_type": "code",
      "source": [
        "np.arange(10)"
      ],
      "metadata": {
        "colab": {
          "base_uri": "https://localhost:8080/"
        },
        "id": "le7rq7l5FDPl",
        "outputId": "8fd8a462-1700-40bf-f9ce-edec87dc80d7"
      },
      "execution_count": 27,
      "outputs": [
        {
          "output_type": "execute_result",
          "data": {
            "text/plain": [
              "array([0, 1, 2, 3, 4, 5, 6, 7, 8, 9])"
            ]
          },
          "metadata": {},
          "execution_count": 27
        }
      ]
    },
    {
      "cell_type": "code",
      "source": [
        "np.random.randn(10)"
      ],
      "metadata": {
        "colab": {
          "base_uri": "https://localhost:8080/"
        },
        "id": "dxqNRhDlFwUw",
        "outputId": "3b260f30-d0e1-4b3f-e7a4-541e43ca028a"
      },
      "execution_count": 28,
      "outputs": [
        {
          "output_type": "execute_result",
          "data": {
            "text/plain": [
              "array([ 0.06612354, -0.38509068,  2.3642195 ,  0.3134066 , -0.81875314,\n",
              "       -1.95751218,  0.35729756, -1.2337102 ,  1.32977628, -1.37923194])"
            ]
          },
          "metadata": {},
          "execution_count": 28
        }
      ]
    },
    {
      "cell_type": "code",
      "source": [
        "np.random.random((10,2))"
      ],
      "metadata": {
        "colab": {
          "base_uri": "https://localhost:8080/"
        },
        "id": "ugvBlDAHF5cR",
        "outputId": "b4f35263-e615-47f6-da8c-d47a6d3a68d2"
      },
      "execution_count": 35,
      "outputs": [
        {
          "output_type": "execute_result",
          "data": {
            "text/plain": [
              "array([[0.6824531 , 0.35636322],\n",
              "       [0.80895464, 0.34493766],\n",
              "       [0.71775148, 0.56467967],\n",
              "       [0.36031394, 0.42519113],\n",
              "       [0.95046352, 0.5776643 ],\n",
              "       [0.4380387 , 0.59184536],\n",
              "       [0.12420197, 0.95500115],\n",
              "       [0.9980155 , 0.72701929],\n",
              "       [0.18978171, 0.16782077],\n",
              "       [0.25893693, 0.39137192]])"
            ]
          },
          "metadata": {},
          "execution_count": 35
        }
      ]
    },
    {
      "cell_type": "code",
      "source": [
        "np.random.laplace(100)"
      ],
      "metadata": {
        "colab": {
          "base_uri": "https://localhost:8080/"
        },
        "id": "htWsyd4EGVa0",
        "outputId": "d53330a9-7c93-4c1d-fccd-4d188de4cc12"
      },
      "execution_count": 33,
      "outputs": [
        {
          "output_type": "execute_result",
          "data": {
            "text/plain": [
              "100.6118699508458"
            ]
          },
          "metadata": {},
          "execution_count": 33
        }
      ]
    },
    {
      "cell_type": "code",
      "source": [
        "np.random.sample(10)"
      ],
      "metadata": {
        "colab": {
          "base_uri": "https://localhost:8080/"
        },
        "id": "qRTBrpuFG9TP",
        "outputId": "14c8e88a-aa08-4297-93dd-6b5063287ef3"
      },
      "execution_count": 37,
      "outputs": [
        {
          "output_type": "execute_result",
          "data": {
            "text/plain": [
              "array([0.78570843, 0.10866418, 0.84892406, 0.03048549, 0.8195189 ,\n",
              "       0.76542552, 0.91997371, 0.78382503, 0.39036032, 0.71515317])"
            ]
          },
          "metadata": {},
          "execution_count": 37
        }
      ]
    },
    {
      "cell_type": "code",
      "source": [
        "import random\n",
        "random.randint(4,10)"
      ],
      "metadata": {
        "colab": {
          "base_uri": "https://localhost:8080/"
        },
        "id": "K0NvvrnwHIlZ",
        "outputId": "994b4f18-2f4a-4b62-aab7-b7fce6f0ea5d"
      },
      "execution_count": 38,
      "outputs": [
        {
          "output_type": "execute_result",
          "data": {
            "text/plain": [
              "5"
            ]
          },
          "metadata": {},
          "execution_count": 38
        }
      ]
    },
    {
      "cell_type": "code",
      "source": [
        "np.random.randint(-2,2,size=10)"
      ],
      "metadata": {
        "colab": {
          "base_uri": "https://localhost:8080/"
        },
        "id": "JF3mfiO5He1Q",
        "outputId": "3bf5461b-1028-41e8-9664-7368578a475e"
      },
      "execution_count": 39,
      "outputs": [
        {
          "output_type": "execute_result",
          "data": {
            "text/plain": [
              "array([-1, -2,  0, -2, -1, -1, -1,  1,  1,  1])"
            ]
          },
          "metadata": {},
          "execution_count": 39
        }
      ]
    },
    {
      "cell_type": "code",
      "source": [
        "np.random.randint(-2,2,size=(10,2))"
      ],
      "metadata": {
        "colab": {
          "base_uri": "https://localhost:8080/"
        },
        "id": "MJhDEwumIMI9",
        "outputId": "27e15ef6-c70f-4821-9753-de23ba01a3b7"
      },
      "execution_count": 40,
      "outputs": [
        {
          "output_type": "execute_result",
          "data": {
            "text/plain": [
              "array([[ 1, -1],\n",
              "       [-1, -2],\n",
              "       [ 1, -1],\n",
              "       [ 1, -1],\n",
              "       [ 1,  1],\n",
              "       [ 0, -2],\n",
              "       [ 1,  0],\n",
              "       [-2,  1],\n",
              "       [ 1, -1],\n",
              "       [-1, -2]])"
            ]
          },
          "metadata": {},
          "execution_count": 40
        }
      ]
    },
    {
      "cell_type": "code",
      "source": [
        "data = np.random.randint(10,size=(3,5))\n",
        "data"
      ],
      "metadata": {
        "colab": {
          "base_uri": "https://localhost:8080/"
        },
        "id": "eSTInzv2IyeQ",
        "outputId": "7d2929b5-ff39-446a-c0f3-d84a76e46cde"
      },
      "execution_count": 44,
      "outputs": [
        {
          "output_type": "execute_result",
          "data": {
            "text/plain": [
              "array([[3, 5, 5, 3, 1],\n",
              "       [0, 3, 0, 3, 8],\n",
              "       [1, 1, 6, 8, 0]])"
            ]
          },
          "metadata": {},
          "execution_count": 44
        }
      ]
    },
    {
      "cell_type": "code",
      "source": [
        "data1d = [1,2,3,4]\n",
        "sum(data1d)"
      ],
      "metadata": {
        "colab": {
          "base_uri": "https://localhost:8080/"
        },
        "id": "TjJhsjN6JAb4",
        "outputId": "11637f6a-7d57-4da6-e9b4-d899c6fa49f9"
      },
      "execution_count": 50,
      "outputs": [
        {
          "output_type": "execute_result",
          "data": {
            "text/plain": [
              "10"
            ]
          },
          "metadata": {},
          "execution_count": 50
        }
      ]
    },
    {
      "cell_type": "code",
      "source": [
        "np.sum(data),np.max(data)"
      ],
      "metadata": {
        "colab": {
          "base_uri": "https://localhost:8080/"
        },
        "id": "j-TCHFbJJMJZ",
        "outputId": "0a322125-8ed7-4832-82df-b92716a94348"
      },
      "execution_count": 48,
      "outputs": [
        {
          "output_type": "execute_result",
          "data": {
            "text/plain": [
              "(47, 8)"
            ]
          },
          "metadata": {},
          "execution_count": 48
        }
      ]
    }
  ]
}